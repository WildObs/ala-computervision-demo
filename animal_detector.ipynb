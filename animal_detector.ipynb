{
 "cells": [
  {
   "cell_type": "markdown",
   "metadata": {},
   "source": [
    "# WildObs Tech Demo: Using YoloV11 for Australian Animal Detection\n",
    "\n",
    "WildObs is a new national platform that will provide and end-to-end solution for wildlife monitoring in Australia. One of its key features is the ability to automatically detect Australian animals in images. For this, the WildObs team is developing the next generation of Australia's animal detection models using existing national and international tools.\n",
    "\n",
    "In this notebook, we use the powerful image hosting services of the Atlas of Living Australia (ALA) and the new YoloV11 model to demonstrate how to use a base model to detect Australian animals in images. Let's see how good is this model at detecting an iconic Australian animal, the echidna"
   ]
  },
  {
   "cell_type": "markdown",
   "metadata": {},
   "source": [
    "## Install Required Libraries\n",
    "For this demo we will need the following libraries:\n",
    "- `ultralytics` for the YoloV11 model\n",
    "- `pandas` for data manipulation\n",
    "- `pathlib` for file manipulation\n",
    "- `galah` for the ALA image hosting services\n",
    "\n",
    "You can install them using the following command:\n",
    "```bash\n",
    "!pip install -q ultralytics pandas pathlib galah\n",
    "```\n"
   ]
  },
  {
   "cell_type": "markdown",
   "metadata": {},
   "source": [
    "# Load the libraries"
   ]
  },
  {
   "cell_type": "code",
   "execution_count": 42,
   "metadata": {},
   "outputs": [],
   "source": [
    "import os\n",
    "from pathlib import Path\n",
    "from ultralytics import YOLO \n",
    "import pandas as pd\n",
    "import galah"
   ]
  },
  {
   "cell_type": "markdown",
   "metadata": {},
   "source": [
    "## Define our variables"
   ]
  },
  {
   "cell_type": "code",
   "execution_count": 43,
   "metadata": {},
   "outputs": [],
   "source": [
    "# Define the path to the folder containing the images\n",
    "image_folder = 'media' \n",
    "\n",
    "# Load the YOLOv11 model\n",
    "model = YOLO('yolo11n.pt')  \n"
   ]
  },
  {
   "cell_type": "markdown",
   "metadata": {},
   "source": [
    "## Extract the class names from the base model\n"
   ]
  },
  {
   "cell_type": "code",
   "execution_count": 44,
   "metadata": {},
   "outputs": [],
   "source": [
    "# extract class names from the model\n",
    "class_names = model.names\n",
    "\n",
    "# Create a dataframe from the class names\n",
    "df = pd.DataFrame(list(class_names.items()), columns=['class_number', 'class_name'])"
   ]
  },
  {
   "cell_type": "code",
   "execution_count": null,
   "metadata": {},
   "outputs": [],
   "source": [
    "model.predict(source=image_folder, save=True, save_txt=True)  # Predict the images in the folder"
   ]
  },
  {
   "cell_type": "code",
   "execution_count": 56,
   "metadata": {},
   "outputs": [
    {
     "name": "stdout",
     "output_type": "stream",
     "text": [
      "   class_number                            image_name\n",
      "0            14  1ce6444e-e6f7-43bf-8ca3-a7468ffc04d2\n",
      "1            14  0e9d776a-e758-4556-89a3-ec4bd49ece39\n",
      "2            72  1c1571a0-df05-41e5-a3e8-43d534733af8\n",
      "3            25  00b05da7-bfe7-4a6c-9c4c-ebe904e061b6\n",
      "4            16  0d151fac-5f34-4252-81a7-f24a926cfa26\n",
      "5            47  0f4ba498-a38b-4d4d-9fda-a8c21c402f6c\n",
      "6             0  0ff79320-f691-4e52-9e35-583deae8e556\n",
      "7            21  00d23640-f155-4aed-8379-b0bf6cf904ac\n",
      "8            21  0a4c2e76-883c-45e6-8f26-1c6dd41d88e0\n",
      "9            14  1dbc69c2-91bc-4780-a37e-51d361eb9edd\n",
      "10           21  0a498cce-9acf-49fd-80bc-c31707155105\n"
     ]
    }
   ],
   "source": [
    "\n",
    "\n",
    "labels_dir = 'runs/detect/predict/labels'\n",
    "all_data = []\n",
    "\n",
    "# Iterate through each file in the labels directory\n",
    "for label_file in os.listdir(labels_dir):\n",
    "    # Check if the file is a .txt file\n",
    "    if label_file.endswith(\".txt\"):\n",
    "        # Read the contents of the label file\n",
    "        with open(os.path.join(labels_dir, label_file), \"r\") as file:\n",
    "            lines = file.readlines()\n",
    "            for line in lines:\n",
    "                values = line.split()\n",
    "                # Add the label file name (without the .txt extension) as the image name\n",
    "                image_name = label_file.replace('.txt', '')\n",
    "                values.append(image_name)\n",
    "                all_data.append(values)\n",
    "\n",
    "# Create a DataFrame from the combined list, including the image_name column\n",
    "final_df = pd.DataFrame(all_data, columns=[\"class_number\", \"cx\", \"cy\", \"width\", \"height\", \"image_name\"])\n",
    "\n",
    "# Filter the final DataFrame to include only the class number and the image name\n",
    "filtered_df = final_df[['class_number', 'image_name']]\n",
    "\n",
    "# Print the filtered DataFrame\n",
    "print(filtered_df)\n"
   ]
  },
  {
   "cell_type": "code",
   "execution_count": null,
   "metadata": {},
   "outputs": [],
   "source": [
    "# Convert class_number to string in both DataFrames to ensure they match\n",
    "final_df['class_number'] = final_df['class_number'].astype(str)\n",
    "df['class_number'] = df['class_number'].astype(str)\n",
    "\n",
    "# Perform the merge after ensuring the same data type\n",
    "final_df2 = final_df.merge(df, on='class_number', how='left')\n",
    "\n",
    "# Print the resulting DataFrame\n",
    "print(final_df2)"
   ]
  }
 ],
 "metadata": {
  "kernelspec": {
   "display_name": ".venv",
   "language": "python",
   "name": "python3"
  },
  "language_info": {
   "codemirror_mode": {
    "name": "ipython",
    "version": 3
   },
   "file_extension": ".py",
   "mimetype": "text/x-python",
   "name": "python",
   "nbconvert_exporter": "python",
   "pygments_lexer": "ipython3",
   "version": "3.9.6"
  }
 },
 "nbformat": 4,
 "nbformat_minor": 2
}
