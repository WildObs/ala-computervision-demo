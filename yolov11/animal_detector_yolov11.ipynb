{
 "cells": [
  {
   "cell_type": "markdown",
   "metadata": {},
   "source": [
    "# WildObs Tech Demo: Using YoloV11 for Australian Animal Detection\n",
    "\n",
    "WildObs is a new national platform that will provide and end-to-end solution for wildlife monitoring in Australia. One of its key features is the ability to automatically detect Australian animals in images. For this, the WildObs team is developing the next generation of Australia's animal detection models using existing national and international tools.\n",
    "\n",
    "In this notebook, we use the powerful image hosting services of the Atlas of Living Australia (ALA) and the new YoloV11 model to demonstrate how to use a base model to detect Australian animals in images. Let's see how good is this model at detecting an iconic Australian animal, the echidna"
   ]
  },
  {
   "cell_type": "markdown",
   "metadata": {},
   "source": [
    "## Install Required Libraries\n",
    "For this demo we will need the following libraries:\n",
    "- `ultralytics` for the YoloV11 model\n",
    "- `pandas` for data manipulation\n",
    "- `pathlib` for file manipulation\n",
    "\n",
    "You can install them using the following command:\n",
    "```bash\n",
    "!pip install -q ultralytics pandas pathlib\n",
    "```\n"
   ]
  },
  {
   "cell_type": "markdown",
   "metadata": {},
   "source": [
    "## Download the images\n",
    "Please see dowload_images.R script to download the images from the ALA. The script will download the images and save them in the `media` folder.\n",
    "\n",
    "NOTE: The Python Galah library is currently not able to download media from the ALA. An issue has been [raised](https://github.com/AtlasOfLivingAustralia/galah-python/issues/218#issue-2596291312). \n",
    "\n",
    "An example of the images downloaded is shown below:\n",
    "\n",
    "<div style=\"width: 300px;\">\n",
    "    <img src=\"00d23640-f155-4aed-8379-b0bf6cf904ac.png\" alt=\"echidna\" style=\"width: 100%;\">\n",
    "</div>\n"
   ]
  },
  {
   "cell_type": "markdown",
   "metadata": {},
   "source": [
    "# Load the libraries"
   ]
  },
  {
   "cell_type": "code",
   "execution_count": 58,
   "metadata": {},
   "outputs": [],
   "source": [
    "import os\n",
    "from pathlib import Path\n",
    "from ultralytics import YOLO \n",
    "import pandas as pd"
   ]
  },
  {
   "cell_type": "markdown",
   "metadata": {},
   "source": [
    "## Define our variables"
   ]
  },
  {
   "cell_type": "code",
   "execution_count": 59,
   "metadata": {},
   "outputs": [],
   "source": [
    "# Define the path to the folder containing the images\n",
    "image_folder = 'media' \n",
    "\n",
    "# Load the YOLOv11 model\n",
    "model = YOLO('yolo11n.pt')  \n"
   ]
  },
  {
   "cell_type": "markdown",
   "metadata": {},
   "source": [
    "## Extract the class names from the base model\n",
    "When AI models are trained, they are trained on a specific set of classes. In this case, the YoloV11 model was trained on the COCO dataset. We can extract the class names from the model to see what classes it was trained on. We will use this information to visualise the results later"
   ]
  },
  {
   "cell_type": "code",
   "execution_count": 60,
   "metadata": {},
   "outputs": [],
   "source": [
    "# extract class names from the model\n",
    "class_names = model.names\n",
    "\n",
    "# Create a dataframe from the class names\n",
    "df = pd.DataFrame(list(class_names.items()), columns=['class_number', 'class_name'])"
   ]
  },
  {
   "cell_type": "markdown",
   "metadata": {},
   "source": [
    "## Analyse the images using the YoloV11 model\n",
    "We will use the YoloV11 model to analyse the images and detect the echidna. We are using the `predict` function from the `ultralytics` library to do this. The function will return a directory with the images (and its detections overlaid) and a subdirectory with the detections in a text file (called `labels`). This is why we add the parameters `save_txt=True`. "
   ]
  },
  {
   "cell_type": "code",
   "execution_count": null,
   "metadata": {},
   "outputs": [],
   "source": [
    "model.predict(source=image_folder, save=True, save_txt=True)"
   ]
  },
  {
   "cell_type": "markdown",
   "metadata": {},
   "source": [
    "## Wrangling the results\n",
    "We now have the results of the detections in individuals txt files for each image. These txt files do not have column names, and as such we need to add structure to them. We will use the `pandas` library to do this. All YOLO models handle predictions (AI image analysis) the same way: a txt file with one row per detection, where each row has the following format: `class x_center y_center width height`. We will add the column names to the txt files and then concatenate them into a single dataframe.\n",
    "\n",
    "### Define the directory where the detections are saved\n",
    "Include also an empty list to append the values from the txt files"
   ]
  },
  {
   "cell_type": "code",
   "execution_count": 62,
   "metadata": {},
   "outputs": [],
   "source": [
    "labels_dir = 'runs/detect/predict/labels'\n",
    "all_data = []"
   ]
  },
  {
   "cell_type": "code",
   "execution_count": 63,
   "metadata": {},
   "outputs": [],
   "source": [
    "# Iterate through each file in the labels directory\n",
    "for label_file in os.listdir(labels_dir):\n",
    "    # Check if the file is a .txt file\n",
    "    if label_file.endswith(\".txt\"):\n",
    "        # Read the contents of the label file\n",
    "        with open(os.path.join(labels_dir, label_file), \"r\") as file:\n",
    "            lines = file.readlines()\n",
    "            for line in lines:\n",
    "                values = line.split()\n",
    "                # Add the label file name (without the .txt extension) as the image name\n",
    "                image_name = label_file.replace('.txt', '')\n",
    "                values.append(image_name)\n",
    "                all_data.append(values)\n",
    "\n",
    "# Create a DataFrame from the combined list, including the image_name column\n",
    "final_df = pd.DataFrame(all_data, columns=[\"class_number\", \"cx\", \"cy\", \"width\", \"height\", \"image_name\"])\n"
   ]
  },
  {
   "cell_type": "markdown",
   "metadata": {},
   "source": [
    "### Filter the dataframe and print the results"
   ]
  },
  {
   "cell_type": "code",
   "execution_count": 64,
   "metadata": {},
   "outputs": [],
   "source": [
    "# Filter the final DataFrame to include only the class number and the image name\n",
    "filtered_df = final_df[['class_number', 'image_name']]\n",
    "\n",
    "# Print the filtered DataFrame\n",
    "print(filtered_df)"
   ]
  },
  {
   "cell_type": "markdown",
   "metadata": {},
   "source": [
    "### Add the class names to the dataframe\n",
    "We will use the class names extracted from the YoloV11 model to add the class names to the dataframe. This will allow us to see the class names instead of the class numbers."
   ]
  },
  {
   "cell_type": "code",
   "execution_count": 65,
   "metadata": {},
   "outputs": [],
   "source": [
    "# Convert class_number to string in both DataFrames to ensure they match\n",
    "filtered_df['class_number'] = filtered_df['class_number'].astype(str)\n",
    "df['class_number'] = df['class_number'].astype(str)\n",
    "\n",
    "# Perform the merge after ensuring the same data type\n",
    "final_df = filtered_df.merge(df, on='class_number', how='left')\n",
    "\n",
    "# Print the resulting DataFrame\n",
    "print(final_df)"
   ]
  },
  {
   "cell_type": "markdown",
   "metadata": {},
   "source": [
    "## Explaning the results\n",
    "The YOLO models was terrible at detecting echidnas. It detected random objects in the images and even detected the echidna as a \"bear\" (maybe echinas are spikey bears?). This is because the model was trained on a huge dataset with a lot of classes, and echidnas may have not been part of the training set. This is why it is important to train models on specific datasets to get good results; and why the WildObs team is developing a new model specifically for Australian animals.\n",
    "\n",
    "<div style=\"width: 300px;\">\n",
    "    <img src=\"https://github.com/WildObs/ala-computervision-demo/blob/ca21ab6deb1e24ac79df8e0df146274b7599a9e6/yolov11/0a498cce-9acf-49fd-80bc-c31707155105.png\" style=\"width: 300%;\">\n",
    "</div>"
   ]
  }
 ],
 "metadata": {
  "kernelspec": {
   "display_name": ".venv",
   "language": "python",
   "name": "python3"
  },
  "language_info": {
   "codemirror_mode": {
    "name": "ipython",
    "version": 3
   },
   "file_extension": ".py",
   "mimetype": "text/x-python",
   "name": "python",
   "nbconvert_exporter": "python",
   "pygments_lexer": "ipython3",
   "version": "3.9.6"
  }
 },
 "nbformat": 4,
 "nbformat_minor": 2
}
